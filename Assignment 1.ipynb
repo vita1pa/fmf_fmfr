{
 "cells": [
  {
   "cell_type": "code",
   "execution_count": 260,
   "id": "1477990c",
   "metadata": {},
   "outputs": [],
   "source": [
    "# Імпортуємо бібліотеки для роботи\n",
    "import numpy as np\n",
    "import pandas as pd\n",
    "import matplotlib.pyplot as plt\n",
    "import seaborn as sns\n",
    "from scipy.stats import norm"
   ]
  },
  {
   "cell_type": "code",
   "execution_count": 263,
   "id": "a2b0baa4",
   "metadata": {},
   "outputs": [],
   "source": [
    "# Функція для виведення візуалізації\n",
    "# ..узагальнемо дії, описані для S&P500\n",
    "def display_info(data, bins, tail=0.15, column=\"Adj Close**\"):\n",
    "\n",
    "    data['Efficiency'] = (data[column] - data[column].shift(1)) / data[column]\n",
    "\n",
    "\n",
    "    expected_efficiency = np.round( data['Efficiency'].mean(), 3)\n",
    "    print(\"Expected efficiency:\", expected_efficiency)\n",
    "\n",
    "    volatility = np.round ( \n",
    "                    np.sqrt(\n",
    "                        np.abs(\n",
    "                            data[\"Efficiency\"] - data[\"Efficiency\"] ** 2).mean()\n",
    "                            )\n",
    "                        , 3)\n",
    "    print(\"Volatility of efficiency:\", volatility)\n",
    "\n",
    "\n",
    "    confidence_intervals = [0.95, 0.99]\n",
    "    VaR = [np.percentile(data['Efficiency'][1:], 100 - _ * 100) for _ in confidence_intervals]\n",
    "    print(\"Values at Risk - 95%, 99%:\", VaR)\n",
    "\n",
    "    x_axis = np.arange(-tail, tail, 0.001)\n",
    "    plt.figure(figsize=(7, 5))\n",
    "    plt.plot(x_axis, norm.pdf(x_axis,expected_efficiency,volatility**2))\n",
    "    plt.hist(data['Efficiency'], bins=bins)\n",
    "    for _, interval in enumerate(confidence_intervals):\n",
    "        plt.axvline(VaR[_], color='r', alpha=1/np.exp(_), linestyle='dashed', label=f\"Value at Risk at {interval:.0%}\")\n",
    "    plt.legend()\n",
    "    \n",
    "    return expected_efficiency, volatility"
   ]
  },
  {
   "cell_type": "markdown",
   "id": "56e01c4a",
   "metadata": {},
   "source": [
    "### S&P500"
   ]
  },
  {
   "cell_type": "code",
   "execution_count": 262,
   "id": "c8e991c4",
   "metadata": {},
   "outputs": [
    {
     "data": {
      "text/html": [
       "<div>\n",
       "<style scoped>\n",
       "    .dataframe tbody tr th:only-of-type {\n",
       "        vertical-align: middle;\n",
       "    }\n",
       "\n",
       "    .dataframe tbody tr th {\n",
       "        vertical-align: top;\n",
       "    }\n",
       "\n",
       "    .dataframe thead th {\n",
       "        text-align: right;\n",
       "    }\n",
       "</style>\n",
       "<table border=\"1\" class=\"dataframe\">\n",
       "  <thead>\n",
       "    <tr style=\"text-align: right;\">\n",
       "      <th></th>\n",
       "      <th>Date</th>\n",
       "      <th>Open</th>\n",
       "      <th>High</th>\n",
       "      <th>Low</th>\n",
       "      <th>Close*</th>\n",
       "      <th>Adj Close**</th>\n",
       "      <th>Volume</th>\n",
       "    </tr>\n",
       "  </thead>\n",
       "  <tbody>\n",
       "    <tr>\n",
       "      <th>0</th>\n",
       "      <td>2023-10-13</td>\n",
       "      <td>4360.49</td>\n",
       "      <td>4377.10</td>\n",
       "      <td>4311.97</td>\n",
       "      <td>4327.78</td>\n",
       "      <td>4327.78</td>\n",
       "      <td>2285325000</td>\n",
       "    </tr>\n",
       "    <tr>\n",
       "      <th>1</th>\n",
       "      <td>2023-10-12</td>\n",
       "      <td>4380.94</td>\n",
       "      <td>4385.85</td>\n",
       "      <td>4325.43</td>\n",
       "      <td>4349.61</td>\n",
       "      <td>4349.61</td>\n",
       "      <td>3713140000</td>\n",
       "    </tr>\n",
       "    <tr>\n",
       "      <th>2</th>\n",
       "      <td>2023-10-11</td>\n",
       "      <td>4366.59</td>\n",
       "      <td>4378.64</td>\n",
       "      <td>4345.34</td>\n",
       "      <td>4376.95</td>\n",
       "      <td>4376.95</td>\n",
       "      <td>3601660000</td>\n",
       "    </tr>\n",
       "  </tbody>\n",
       "</table>\n",
       "</div>"
      ],
      "text/plain": [
       "        Date     Open     High      Low   Close*  Adj Close**      Volume\n",
       "0 2023-10-13  4360.49  4377.10  4311.97  4327.78      4327.78  2285325000\n",
       "1 2023-10-12  4380.94  4385.85  4325.43  4349.61      4349.61  3713140000\n",
       "2 2023-10-11  4366.59  4378.64  4345.34  4376.95      4376.95  3601660000"
      ]
     },
     "execution_count": 262,
     "metadata": {},
     "output_type": "execute_result"
    }
   ],
   "source": [
    "# Імпортуємо дані - по дням та місяцям\n",
    "daily_data = pd.read_excel(\"Assignment1_Data.xlsx\", sheet_name=\"SP500_1Y_Daily\")\n",
    "weekly_data = pd.read_excel(\"Assignment1_Data.xlsx\", sheet_name=\"SP500_2Y_Weekly\")\n",
    "daily_data.head(3)"
   ]
  },
  {
   "cell_type": "code",
   "execution_count": 266,
   "id": "49f31597",
   "metadata": {},
   "outputs": [],
   "source": [
    "# Приклад роботи покажемо на даних по дням (daily_data):"
   ]
  },
  {
   "cell_type": "code",
   "execution_count": 267,
   "id": "f7a0b70d",
   "metadata": {},
   "outputs": [
    {
     "data": {
      "text/plain": [
       "0    4327.78\n",
       "1    4349.61\n",
       "2    4376.95\n",
       "Name: Adj Close**, dtype: float64"
      ]
     },
     "execution_count": 267,
     "metadata": {},
     "output_type": "execute_result"
    }
   ],
   "source": [
    "# Працюватимемо з колонкою 'Adj Close**'\n",
    "column = 'Adj Close**'\n",
    "\n",
    "daily_data[column].head(3)"
   ]
  },
  {
   "cell_type": "code",
   "execution_count": 268,
   "id": "2ae427b1",
   "metadata": {},
   "outputs": [
    {
     "data": {
      "text/plain": [
       "0         NaN\n",
       "1    0.005019\n",
       "2    0.006246\n",
       "Name: Efficiency, dtype: float64"
      ]
     },
     "execution_count": 268,
     "metadata": {},
     "output_type": "execute_result"
    }
   ],
   "source": [
    "# Розрахуємо ефективність як 'Adj Close**'-'Adj Close**', яке зсунуте вліво на 1 позицію (команда shift)\n",
    "daily_data['Efficiency'] = (daily_data[column] - daily_data[column].shift(1)) / daily_data[column]\n",
    "daily_data['Efficiency'].head(3)"
   ]
  },
  {
   "cell_type": "code",
   "execution_count": 269,
   "id": "a0eea06a",
   "metadata": {},
   "outputs": [
    {
     "name": "stdout",
     "output_type": "stream",
     "text": [
      "Expected efficiency: -0.001\n"
     ]
    }
   ],
   "source": [
    "# Мат. очікування ефективності - просте середнє арифметичне\n",
    "expected_efficiency_daily = np.round( daily_data['Efficiency'].mean(), 3)\n",
    "print(\"Expected efficiency:\", expected_efficiency_daily)"
   ]
  },
  {
   "cell_type": "code",
   "execution_count": 270,
   "id": "deab1fd1",
   "metadata": {},
   "outputs": [
    {
     "name": "stdout",
     "output_type": "stream",
     "text": [
      "Volatility of efficiency: 0.088\n"
     ]
    }
   ],
   "source": [
    "# Розрахуємо волатильність по формулі - для цього від ефективності віднімемо (ефективність) ** 2\n",
    "# далі кожне значення в модуль та рахуємо середнє арифметичне\n",
    "volatility_daily = np.round ( \n",
    "                np.sqrt(\n",
    "                np.abs(\n",
    "                daily_data[\"Efficiency\"] - daily_data[\"Efficiency\"] ** 2).mean()\n",
    "                )\n",
    "                ,3)\n",
    "print(\"Volatility of efficiency:\", volatility_daily)"
   ]
  },
  {
   "cell_type": "code",
   "execution_count": 272,
   "id": "beadc0d6",
   "metadata": {},
   "outputs": [
    {
     "data": {
      "image/png": "[encoded data removed]",
      "text/plain": [
       "<Figure size 504x360 with 1 Axes>"
      ]
     },
     "metadata": {
      "needs_background": "light"
     },
     "output_type": "display_data"
    }
   ],
   "source": [
    "# Порівняємо гістограму для ефективності з нормальним розподілом...\n",
    "# параметри нормального розподілу mu=Е(Ефективність), sigma=(Волатильність)**2\n",
    "x_axis = np.arange(-0.05, 0.05, 0.001)\n",
    "\n",
    "plt.figure(figsize=(7, 5))\n",
    "plt.plot(x_axis, norm.pdf(x_axis,expected_efficiency_daily,volatility_daily**2))\n",
    "plt.hist(daily_data['Efficiency'], bins=20)\n",
    "plt.show()"
   ]
  },
  {
   "cell_type": "code",
   "execution_count": 273,
   "id": "cc46694e",
   "metadata": {},
   "outputs": [
    {
     "name": "stdout",
     "output_type": "stream",
     "text": [
      "[-0.01621316247695521, -0.02557176767868708]\n"
     ]
    }
   ],
   "source": [
    "# Перейдемо до пошуку Value at Risk;\n",
    "# Знайдемо для 95% та 99% рівнів значимості:\n",
    "confidence_intervals = [0.95, 0.99]\n",
    "\n",
    "VaR = [np.percentile(daily_data['Efficiency'][1:], 100 - _ * 100) for _ in confidence_intervals]\n",
    "print(VaR)"
   ]
  },
  {
   "cell_type": "code",
   "execution_count": 274,
   "id": "2019b4ac",
   "metadata": {},
   "outputs": [
    {
     "data": {
      "text/plain": [
       "<matplotlib.legend.Legend at 0x1a2e3d7b910>"
      ]
     },
     "execution_count": 274,
     "metadata": {},
     "output_type": "execute_result"
    },
    {
     "data": {
      "image/png": "[encoded data removed]",
      "text/plain": [
       "<Figure size 504x360 with 1 Axes>"
      ]
     },
     "metadata": {
      "needs_background": "light"
     },
     "output_type": "display_data"
    }
   ],
   "source": [
    "# Порівняння графіків та різні Value at Risk:\n",
    "x_axis = np.arange(-0.05, 0.05, 0.001)\n",
    "\n",
    "plt.figure(figsize=(7, 5))\n",
    "plt.plot(x_axis, norm.pdf(x_axis,expected_efficiency_daily,volatility_daily**2))\n",
    "plt.hist(daily_data['Efficiency'], bins=20)\n",
    "for _, interval in enumerate(confidence_intervals):\n",
    "    plt.axvline(VaR[_], color='r', alpha=1/np.exp(_), linestyle='dashed', label=f\"Value at Risk at {interval:.0%}\")\n",
    "plt.legend()"
   ]
  },
  {
   "cell_type": "markdown",
   "id": "0504e055",
   "metadata": {},
   "source": [
    "Аналогічні дії для даних по місяцям:"
   ]
  },
  {
   "cell_type": "code",
   "execution_count": 277,
   "id": "7b3567d7",
   "metadata": {},
   "outputs": [
    {
     "name": "stdout",
     "output_type": "stream",
     "text": [
      "Expected efficiency: 0.0\n",
      "Volatility of efficiency: 0.144\n",
      "Values at Risk - 95%, 99%: [-0.042268081851961924, -0.06440724901817729]\n"
     ]
    },
    {
     "data": {
      "text/plain": [
       "<matplotlib.legend.Legend at 0x1a2e3d10790>"
      ]
     },
     "execution_count": 277,
     "metadata": {},
     "output_type": "execute_result"
    },
    {
     "data": {
      "image/png": "[encoded data removed]",
      "text/plain": [
       "<Figure size 504x360 with 1 Axes>"
      ]
     },
     "metadata": {
      "needs_background": "light"
     },
     "output_type": "display_data"
    }
   ],
   "source": [
    "# Скомбінуємо всі команди в одну та подивимось фінальний результат:\n",
    "weekly_data['Efficiency'] = (weekly_data[column] - weekly_data[column].shift(1)) / weekly_data[column]\n",
    "\n",
    "\n",
    "expected_efficiency_weekly = np.round( weekly_data['Efficiency'].mean(), 3)\n",
    "print(\"Expected efficiency:\", expected_efficiency_weekly)\n",
    "\n",
    "volatility_weekly = np.round ( \n",
    "                np.sqrt(\n",
    "                    np.abs(\n",
    "                        weekly_data[\"Efficiency\"] - weekly_data[\"Efficiency\"] ** 2).mean()\n",
    "                        )\n",
    "                    , 3)\n",
    "print(\"Volatility of efficiency:\", volatility_weekly)\n",
    "\n",
    "\n",
    "confidence_intervals = [0.95, 0.99]\n",
    "VaR = [np.percentile(weekly_data['Efficiency'][1:], 100 - _ * 100) for _ in confidence_intervals]\n",
    "print(f\"Values at Risk - 95%, 99%: {VaR}\")\n",
    "\n",
    "x_axis = np.arange(-0.1, 0.1, 0.001)\n",
    "plt.figure(figsize=(7, 5))\n",
    "plt.plot(x_axis, norm.pdf(x_axis,expected_efficiency_weekly,volatility_weekly**2))\n",
    "plt.hist(weekly_data['Efficiency'], bins=20)\n",
    "for _, interval in enumerate(confidence_intervals):\n",
    "    plt.axvline(VaR[_], color='r', alpha=1/np.exp(_), linestyle='dashed', label=f\"Value at Risk at {interval:.0%}\")\n",
    "plt.legend()"
   ]
  },
  {
   "cell_type": "code",
   "execution_count": 278,
   "id": "3c5b4faa",
   "metadata": {},
   "outputs": [
    {
     "data": {
      "text/html": [
       "<div>\n",
       "<style scoped>\n",
       "    .dataframe tbody tr th:only-of-type {\n",
       "        vertical-align: middle;\n",
       "    }\n",
       "\n",
       "    .dataframe tbody tr th {\n",
       "        vertical-align: top;\n",
       "    }\n",
       "\n",
       "    .dataframe thead th {\n",
       "        text-align: right;\n",
       "    }\n",
       "</style>\n",
       "<table border=\"1\" class=\"dataframe\">\n",
       "  <thead>\n",
       "    <tr style=\"text-align: right;\">\n",
       "      <th></th>\n",
       "      <th>Daily</th>\n",
       "      <th>Weekly</th>\n",
       "    </tr>\n",
       "  </thead>\n",
       "  <tbody>\n",
       "    <tr>\n",
       "      <th>Efficiency</th>\n",
       "      <td>-0.001</td>\n",
       "      <td>0.000</td>\n",
       "    </tr>\n",
       "    <tr>\n",
       "      <th>Volatility</th>\n",
       "      <td>0.088</td>\n",
       "      <td>0.144</td>\n",
       "    </tr>\n",
       "  </tbody>\n",
       "</table>\n",
       "</div>"
      ],
      "text/plain": [
       "            Daily  Weekly\n",
       "Efficiency -0.001   0.000\n",
       "Volatility  0.088   0.144"
      ]
     },
     "execution_count": 278,
     "metadata": {},
     "output_type": "execute_result"
    }
   ],
   "source": [
    "# Таблиця з даними S&P500 для ефективності та волатильності:\n",
    "pd.DataFrame(data=[[expected_efficiency_daily, expected_efficiency_weekly], \n",
    "                   [volatility_daily, volatility_weekly]], \n",
    "             columns=['Daily', 'Weekly'],\n",
    "             index=['Efficiency', 'Volatility']\n",
    "            )"
   ]
  },
  {
   "cell_type": "markdown",
   "id": "36a6f1c0",
   "metadata": {},
   "source": [
    "Аналогічні дії виконаємо для інших фінансових інструментів: \n",
    "+ Акції - Amazon\n",
    "+ Бонди - BND\n",
    "+ Золото - Gold\n",
    "+ Криптовалюти - BTC"
   ]
  },
  {
   "cell_type": "markdown",
   "id": "4b086376",
   "metadata": {},
   "source": [
    "### Amazon "
   ]
  },
  {
   "cell_type": "code",
   "execution_count": 282,
   "id": "94c00615",
   "metadata": {},
   "outputs": [
    {
     "data": {
      "text/html": [
       "<div>\n",
       "<style scoped>\n",
       "    .dataframe tbody tr th:only-of-type {\n",
       "        vertical-align: middle;\n",
       "    }\n",
       "\n",
       "    .dataframe tbody tr th {\n",
       "        vertical-align: top;\n",
       "    }\n",
       "\n",
       "    .dataframe thead th {\n",
       "        text-align: right;\n",
       "    }\n",
       "</style>\n",
       "<table border=\"1\" class=\"dataframe\">\n",
       "  <thead>\n",
       "    <tr style=\"text-align: right;\">\n",
       "      <th></th>\n",
       "      <th>Date</th>\n",
       "      <th>Open</th>\n",
       "      <th>High</th>\n",
       "      <th>Low</th>\n",
       "      <th>Close</th>\n",
       "      <th>Adj Close</th>\n",
       "      <th>Volume</th>\n",
       "    </tr>\n",
       "  </thead>\n",
       "  <tbody>\n",
       "    <tr>\n",
       "      <th>0</th>\n",
       "      <td>2022-10-14</td>\n",
       "      <td>114.099998</td>\n",
       "      <td>114.959999</td>\n",
       "      <td>106.599998</td>\n",
       "      <td>106.900002</td>\n",
       "      <td>106.900002</td>\n",
       "      <td>67737300</td>\n",
       "    </tr>\n",
       "    <tr>\n",
       "      <th>1</th>\n",
       "      <td>2022-10-17</td>\n",
       "      <td>110.110001</td>\n",
       "      <td>114.190002</td>\n",
       "      <td>110.089996</td>\n",
       "      <td>113.790001</td>\n",
       "      <td>113.790001</td>\n",
       "      <td>62782000</td>\n",
       "    </tr>\n",
       "    <tr>\n",
       "      <th>2</th>\n",
       "      <td>2022-10-18</td>\n",
       "      <td>119.059998</td>\n",
       "      <td>119.519997</td>\n",
       "      <td>114.790001</td>\n",
       "      <td>116.360001</td>\n",
       "      <td>116.360001</td>\n",
       "      <td>65607400</td>\n",
       "    </tr>\n",
       "  </tbody>\n",
       "</table>\n",
       "</div>"
      ],
      "text/plain": [
       "        Date        Open        High         Low       Close   Adj Close  \\\n",
       "0 2022-10-14  114.099998  114.959999  106.599998  106.900002  106.900002   \n",
       "1 2022-10-17  110.110001  114.190002  110.089996  113.790001  113.790001   \n",
       "2 2022-10-18  119.059998  119.519997  114.790001  116.360001  116.360001   \n",
       "\n",
       "     Volume  \n",
       "0  67737300  \n",
       "1  62782000  \n",
       "2  65607400  "
      ]
     },
     "execution_count": 282,
     "metadata": {},
     "output_type": "execute_result"
    }
   ],
   "source": [
    "daily_data = pd.read_excel(\"Assignment1_Data.xlsx\", sheet_name=\"AMZN_1Y_Daily\")\n",
    "weekly_data = pd.read_excel(\"Assignment1_Data.xlsx\", sheet_name=\"AMZN_2Y_Weekly\")\n",
    "daily_data.head(3)"
   ]
  },
  {
   "cell_type": "code",
   "execution_count": 283,
   "id": "f301a6cf",
   "metadata": {},
   "outputs": [
    {
     "name": "stdout",
     "output_type": "stream",
     "text": [
      "Expected efficiency: 0.0\n",
      "Volatility of efficiency: 0.133\n",
      "Values at Risk - 95%, 99%: [-0.03690712339581437, -0.05461105650876616]\n"
     ]
    },
    {
     "data": {
      "image/png": "[encoded data removed]",
      "text/plain": [
       "<Figure size 504x360 with 1 Axes>"
      ]
     },
     "metadata": {
      "needs_background": "light"
     },
     "output_type": "display_data"
    }
   ],
   "source": [
    "expected_efficiency_daily, volatility_daily = display_info(daily_data, bins=30, column='Adj Close')"
   ]
  },
  {
   "cell_type": "code",
   "execution_count": 284,
   "id": "12597057",
   "metadata": {},
   "outputs": [
    {
     "name": "stdout",
     "output_type": "stream",
     "text": [
      "Expected efficiency: -0.004\n",
      "Volatility of efficiency: 0.202\n",
      "Values at Risk - 95%, 99%: [-0.08696488274734901, -0.15316619908072387]\n"
     ]
    },
    {
     "data": {
      "image/png": "[encoded data removed]",
      "text/plain": [
       "<Figure size 504x360 with 1 Axes>"
      ]
     },
     "metadata": {
      "needs_background": "light"
     },
     "output_type": "display_data"
    }
   ],
   "source": [
    "expected_efficiency_weekly, volatility_weekly = display_info(weekly_data, bins=30, column='Adj Close')"
   ]
  },
  {
   "cell_type": "code",
   "execution_count": 285,
   "id": "e0ff5a3c",
   "metadata": {},
   "outputs": [
    {
     "data": {
      "text/html": [
       "<div>\n",
       "<style scoped>\n",
       "    .dataframe tbody tr th:only-of-type {\n",
       "        vertical-align: middle;\n",
       "    }\n",
       "\n",
       "    .dataframe tbody tr th {\n",
       "        vertical-align: top;\n",
       "    }\n",
       "\n",
       "    .dataframe thead th {\n",
       "        text-align: right;\n",
       "    }\n",
       "</style>\n",
       "<table border=\"1\" class=\"dataframe\">\n",
       "  <thead>\n",
       "    <tr style=\"text-align: right;\">\n",
       "      <th></th>\n",
       "      <th>Daily</th>\n",
       "      <th>Weekly</th>\n",
       "    </tr>\n",
       "  </thead>\n",
       "  <tbody>\n",
       "    <tr>\n",
       "      <th>Efficiency</th>\n",
       "      <td>0.000</td>\n",
       "      <td>-0.004</td>\n",
       "    </tr>\n",
       "    <tr>\n",
       "      <th>Volatility</th>\n",
       "      <td>0.133</td>\n",
       "      <td>0.202</td>\n",
       "    </tr>\n",
       "  </tbody>\n",
       "</table>\n",
       "</div>"
      ],
      "text/plain": [
       "            Daily  Weekly\n",
       "Efficiency  0.000  -0.004\n",
       "Volatility  0.133   0.202"
      ]
     },
     "execution_count": 285,
     "metadata": {},
     "output_type": "execute_result"
    }
   ],
   "source": [
    "pd.DataFrame(data=[[expected_efficiency_daily, expected_efficiency_weekly], \n",
    "                   [volatility_daily, volatility_weekly]], \n",
    "             columns=['Daily', 'Weekly'],\n",
    "             index=['Efficiency', 'Volatility'])"
   ]
  },
  {
   "cell_type": "markdown",
   "id": "dd8e0422",
   "metadata": {},
   "source": [
    "### BND"
   ]
  },
  {
   "cell_type": "code",
   "execution_count": 286,
   "id": "11a8d324",
   "metadata": {},
   "outputs": [
    {
     "data": {
      "text/html": [
       "<div>\n",
       "<style scoped>\n",
       "    .dataframe tbody tr th:only-of-type {\n",
       "        vertical-align: middle;\n",
       "    }\n",
       "\n",
       "    .dataframe tbody tr th {\n",
       "        vertical-align: top;\n",
       "    }\n",
       "\n",
       "    .dataframe thead th {\n",
       "        text-align: right;\n",
       "    }\n",
       "</style>\n",
       "<table border=\"1\" class=\"dataframe\">\n",
       "  <thead>\n",
       "    <tr style=\"text-align: right;\">\n",
       "      <th></th>\n",
       "      <th>Date</th>\n",
       "      <th>Open</th>\n",
       "      <th>High</th>\n",
       "      <th>Low</th>\n",
       "      <th>Close</th>\n",
       "      <th>Adj Close</th>\n",
       "      <th>Volume</th>\n",
       "    </tr>\n",
       "  </thead>\n",
       "  <tbody>\n",
       "    <tr>\n",
       "      <th>0</th>\n",
       "      <td>2022-10-14</td>\n",
       "      <td>70.820000</td>\n",
       "      <td>70.830002</td>\n",
       "      <td>70.089996</td>\n",
       "      <td>70.120003</td>\n",
       "      <td>68.062927</td>\n",
       "      <td>6544400</td>\n",
       "    </tr>\n",
       "    <tr>\n",
       "      <th>1</th>\n",
       "      <td>2022-10-17</td>\n",
       "      <td>70.550003</td>\n",
       "      <td>70.680000</td>\n",
       "      <td>70.269997</td>\n",
       "      <td>70.269997</td>\n",
       "      <td>68.208542</td>\n",
       "      <td>19605200</td>\n",
       "    </tr>\n",
       "    <tr>\n",
       "      <th>2</th>\n",
       "      <td>2022-10-18</td>\n",
       "      <td>70.459999</td>\n",
       "      <td>70.540001</td>\n",
       "      <td>70.139999</td>\n",
       "      <td>70.430000</td>\n",
       "      <td>68.363838</td>\n",
       "      <td>7008000</td>\n",
       "    </tr>\n",
       "  </tbody>\n",
       "</table>\n",
       "</div>"
      ],
      "text/plain": [
       "        Date       Open       High        Low      Close  Adj Close    Volume\n",
       "0 2022-10-14  70.820000  70.830002  70.089996  70.120003  68.062927   6544400\n",
       "1 2022-10-17  70.550003  70.680000  70.269997  70.269997  68.208542  19605200\n",
       "2 2022-10-18  70.459999  70.540001  70.139999  70.430000  68.363838   7008000"
      ]
     },
     "execution_count": 286,
     "metadata": {},
     "output_type": "execute_result"
    }
   ],
   "source": [
    "daily_data = pd.read_excel(\"Assignment1_Data.xlsx\", sheet_name=\"BND_1Y_Daily\")\n",
    "weekly_data = pd.read_excel(\"Assignment1_Data.xlsx\", sheet_name=\"BND_2Y_Weekly\")\n",
    "daily_data.head(3)"
   ]
  },
  {
   "cell_type": "code",
   "execution_count": 287,
   "id": "db29edf8",
   "metadata": {},
   "outputs": [
    {
     "name": "stdout",
     "output_type": "stream",
     "text": [
      "Expected efficiency: 0.0\n",
      "Volatility of efficiency: 0.061\n",
      "Values at Risk - 95%, 99%: [-0.006852391250136133, -0.008847091853684761]\n"
     ]
    },
    {
     "data": {
      "image/png": "[encoded data removed]",
      "text/plain": [
       "<Figure size 504x360 with 1 Axes>"
      ]
     },
     "metadata": {
      "needs_background": "light"
     },
     "output_type": "display_data"
    }
   ],
   "source": [
    "expected_efficiency_daily, volatility_daily = display_info(daily_data, bins=10, tail=0.02, column='Adj Close')"
   ]
  },
  {
   "cell_type": "code",
   "execution_count": 288,
   "id": "da4366bd",
   "metadata": {},
   "outputs": [
    {
     "name": "stdout",
     "output_type": "stream",
     "text": [
      "Expected efficiency: -0.001\n",
      "Volatility of efficiency: 0.086\n",
      "Values at Risk - 95%, 99%: [-0.0157128928541089, -0.017536038073596102]\n"
     ]
    },
    {
     "data": {
      "image/png": "[encoded data removed]",
      "text/plain": [
       "<Figure size 504x360 with 1 Axes>"
      ]
     },
     "metadata": {
      "needs_background": "light"
     },
     "output_type": "display_data"
    }
   ],
   "source": [
    "expected_efficiency_weekly, volatility_weekly = display_info(weekly_data, bins=10, tail=0.03, column='Adj Close')"
   ]
  },
  {
   "cell_type": "code",
   "execution_count": 289,
   "id": "7c3d41e1",
   "metadata": {},
   "outputs": [
    {
     "data": {
      "text/html": [
       "<div>\n",
       "<style scoped>\n",
       "    .dataframe tbody tr th:only-of-type {\n",
       "        vertical-align: middle;\n",
       "    }\n",
       "\n",
       "    .dataframe tbody tr th {\n",
       "        vertical-align: top;\n",
       "    }\n",
       "\n",
       "    .dataframe thead th {\n",
       "        text-align: right;\n",
       "    }\n",
       "</style>\n",
       "<table border=\"1\" class=\"dataframe\">\n",
       "  <thead>\n",
       "    <tr style=\"text-align: right;\">\n",
       "      <th></th>\n",
       "      <th>Daily</th>\n",
       "      <th>Weekly</th>\n",
       "    </tr>\n",
       "  </thead>\n",
       "  <tbody>\n",
       "    <tr>\n",
       "      <th>Efficiency</th>\n",
       "      <td>0.000</td>\n",
       "      <td>-0.001</td>\n",
       "    </tr>\n",
       "    <tr>\n",
       "      <th>Volatility</th>\n",
       "      <td>0.061</td>\n",
       "      <td>0.086</td>\n",
       "    </tr>\n",
       "  </tbody>\n",
       "</table>\n",
       "</div>"
      ],
      "text/plain": [
       "            Daily  Weekly\n",
       "Efficiency  0.000  -0.001\n",
       "Volatility  0.061   0.086"
      ]
     },
     "execution_count": 289,
     "metadata": {},
     "output_type": "execute_result"
    }
   ],
   "source": [
    "pd.DataFrame(data=[[expected_efficiency_daily, expected_efficiency_weekly], \n",
    "                   [volatility_daily, volatility_weekly]], \n",
    "             columns=['Daily', 'Weekly'],\n",
    "             index=['Efficiency', 'Volatility'])"
   ]
  },
  {
   "cell_type": "markdown",
   "id": "a3d16cc4",
   "metadata": {},
   "source": [
    "### Gold"
   ]
  },
  {
   "cell_type": "code",
   "execution_count": 290,
   "id": "2dcde02d",
   "metadata": {},
   "outputs": [
    {
     "data": {
      "text/html": [
       "<div>\n",
       "<style scoped>\n",
       "    .dataframe tbody tr th:only-of-type {\n",
       "        vertical-align: middle;\n",
       "    }\n",
       "\n",
       "    .dataframe tbody tr th {\n",
       "        vertical-align: top;\n",
       "    }\n",
       "\n",
       "    .dataframe thead th {\n",
       "        text-align: right;\n",
       "    }\n",
       "</style>\n",
       "<table border=\"1\" class=\"dataframe\">\n",
       "  <thead>\n",
       "    <tr style=\"text-align: right;\">\n",
       "      <th></th>\n",
       "      <th>Date</th>\n",
       "      <th>Open</th>\n",
       "      <th>High</th>\n",
       "      <th>Low</th>\n",
       "      <th>Close*</th>\n",
       "      <th>Adj Close**</th>\n",
       "      <th>Volume</th>\n",
       "    </tr>\n",
       "  </thead>\n",
       "  <tbody>\n",
       "    <tr>\n",
       "      <th>0</th>\n",
       "      <td>2023-10-13</td>\n",
       "      <td>1877.5</td>\n",
       "      <td>1930.1</td>\n",
       "      <td>1877.5</td>\n",
       "      <td>1927.4</td>\n",
       "      <td>1927.4</td>\n",
       "      <td>46</td>\n",
       "    </tr>\n",
       "    <tr>\n",
       "      <th>1</th>\n",
       "      <td>2023-10-12</td>\n",
       "      <td>1874.7</td>\n",
       "      <td>1881.2</td>\n",
       "      <td>1867.0</td>\n",
       "      <td>1869.3</td>\n",
       "      <td>1869.3</td>\n",
       "      <td>46</td>\n",
       "    </tr>\n",
       "    <tr>\n",
       "      <th>2</th>\n",
       "      <td>2023-10-11</td>\n",
       "      <td>1869.5</td>\n",
       "      <td>1874.6</td>\n",
       "      <td>1869.1</td>\n",
       "      <td>1872.8</td>\n",
       "      <td>1872.8</td>\n",
       "      <td>65</td>\n",
       "    </tr>\n",
       "  </tbody>\n",
       "</table>\n",
       "</div>"
      ],
      "text/plain": [
       "        Date    Open    High     Low  Close*  Adj Close** Volume\n",
       "0 2023-10-13  1877.5  1930.1  1877.5  1927.4       1927.4     46\n",
       "1 2023-10-12  1874.7  1881.2  1867.0  1869.3       1869.3     46\n",
       "2 2023-10-11  1869.5  1874.6  1869.1  1872.8       1872.8     65"
      ]
     },
     "execution_count": 290,
     "metadata": {},
     "output_type": "execute_result"
    }
   ],
   "source": [
    "daily_data = pd.read_excel(\"Assignment1_Data.xlsx\", sheet_name=\"Gold_1Y_Daily\")\n",
    "weekly_data = pd.read_excel(\"Assignment1_Data.xlsx\", sheet_name=\"Gold_2Y_Weekly\")\n",
    "daily_data.head(3)"
   ]
  },
  {
   "cell_type": "code",
   "execution_count": 291,
   "id": "4fc472ec",
   "metadata": {},
   "outputs": [
    {
     "name": "stdout",
     "output_type": "stream",
     "text": [
      "Expected efficiency: -0.001\n",
      "Volatility of efficiency: 0.08\n",
      "Values at Risk - 95%, 99%: [-0.015686641057342462, -0.02724474347239699]\n"
     ]
    },
    {
     "data": {
      "image/png": "[encoded data removed]",
      "text/plain": [
       "<Figure size 504x360 with 1 Axes>"
      ]
     },
     "metadata": {
      "needs_background": "light"
     },
     "output_type": "display_data"
    }
   ],
   "source": [
    "expected_efficiency_daily, volatility_daily = display_info(daily_data, bins=15, tail=0.02, column='Adj Close**')"
   ]
  },
  {
   "cell_type": "code",
   "execution_count": 292,
   "id": "77478356",
   "metadata": {},
   "outputs": [
    {
     "name": "stdout",
     "output_type": "stream",
     "text": [
      "Expected efficiency: -0.001\n",
      "Volatility of efficiency: 0.122\n",
      "Values at Risk - 95%, 99%: [-0.02896593148464985, -0.05582047327850501]\n"
     ]
    },
    {
     "data": {
      "image/png": "[encoded data removed]",
      "text/plain": [
       "<Figure size 504x360 with 1 Axes>"
      ]
     },
     "metadata": {
      "needs_background": "light"
     },
     "output_type": "display_data"
    }
   ],
   "source": [
    "expected_efficiency_weekly, volatility_weekly = display_info(weekly_data, bins=15, tail=0.06, column='Adj Close**')"
   ]
  },
  {
   "cell_type": "code",
   "execution_count": 293,
   "id": "65e91c30",
   "metadata": {},
   "outputs": [
    {
     "data": {
      "text/html": [
       "<div>\n",
       "<style scoped>\n",
       "    .dataframe tbody tr th:only-of-type {\n",
       "        vertical-align: middle;\n",
       "    }\n",
       "\n",
       "    .dataframe tbody tr th {\n",
       "        vertical-align: top;\n",
       "    }\n",
       "\n",
       "    .dataframe thead th {\n",
       "        text-align: right;\n",
       "    }\n",
       "</style>\n",
       "<table border=\"1\" class=\"dataframe\">\n",
       "  <thead>\n",
       "    <tr style=\"text-align: right;\">\n",
       "      <th></th>\n",
       "      <th>Daily</th>\n",
       "      <th>Weekly</th>\n",
       "    </tr>\n",
       "  </thead>\n",
       "  <tbody>\n",
       "    <tr>\n",
       "      <th>Efficiency</th>\n",
       "      <td>-0.001</td>\n",
       "      <td>-0.001</td>\n",
       "    </tr>\n",
       "    <tr>\n",
       "      <th>Volatility</th>\n",
       "      <td>0.080</td>\n",
       "      <td>0.122</td>\n",
       "    </tr>\n",
       "  </tbody>\n",
       "</table>\n",
       "</div>"
      ],
      "text/plain": [
       "            Daily  Weekly\n",
       "Efficiency -0.001  -0.001\n",
       "Volatility  0.080   0.122"
      ]
     },
     "execution_count": 293,
     "metadata": {},
     "output_type": "execute_result"
    }
   ],
   "source": [
    "pd.DataFrame(data=[[expected_efficiency_daily, expected_efficiency_weekly], \n",
    "                   [volatility_daily, volatility_weekly]], \n",
    "             columns=['Daily', 'Weekly'],\n",
    "             index=['Efficiency', 'Volatility'])"
   ]
  },
  {
   "cell_type": "markdown",
   "id": "b72d793f",
   "metadata": {},
   "source": [
    "### Bitcoin"
   ]
  },
  {
   "cell_type": "code",
   "execution_count": 294,
   "id": "13e462bb",
   "metadata": {},
   "outputs": [
    {
     "data": {
      "text/html": [
       "<div>\n",
       "<style scoped>\n",
       "    .dataframe tbody tr th:only-of-type {\n",
       "        vertical-align: middle;\n",
       "    }\n",
       "\n",
       "    .dataframe tbody tr th {\n",
       "        vertical-align: top;\n",
       "    }\n",
       "\n",
       "    .dataframe thead th {\n",
       "        text-align: right;\n",
       "    }\n",
       "</style>\n",
       "<table border=\"1\" class=\"dataframe\">\n",
       "  <thead>\n",
       "    <tr style=\"text-align: right;\">\n",
       "      <th></th>\n",
       "      <th>Date</th>\n",
       "      <th>Open</th>\n",
       "      <th>High</th>\n",
       "      <th>Low</th>\n",
       "      <th>Close</th>\n",
       "      <th>Adj Close</th>\n",
       "      <th>Volume</th>\n",
       "    </tr>\n",
       "  </thead>\n",
       "  <tbody>\n",
       "    <tr>\n",
       "      <th>0</th>\n",
       "      <td>2022-10-14</td>\n",
       "      <td>19382.533203</td>\n",
       "      <td>19889.146484</td>\n",
       "      <td>19115.408203</td>\n",
       "      <td>19185.656250</td>\n",
       "      <td>19185.656250</td>\n",
       "      <td>38452356727</td>\n",
       "    </tr>\n",
       "    <tr>\n",
       "      <th>1</th>\n",
       "      <td>2022-10-15</td>\n",
       "      <td>19185.437500</td>\n",
       "      <td>19212.541016</td>\n",
       "      <td>19019.250000</td>\n",
       "      <td>19067.634766</td>\n",
       "      <td>19067.634766</td>\n",
       "      <td>16192235532</td>\n",
       "    </tr>\n",
       "    <tr>\n",
       "      <th>2</th>\n",
       "      <td>2022-10-16</td>\n",
       "      <td>19068.914063</td>\n",
       "      <td>19389.603516</td>\n",
       "      <td>19068.914063</td>\n",
       "      <td>19268.093750</td>\n",
       "      <td>19268.093750</td>\n",
       "      <td>17988916650</td>\n",
       "    </tr>\n",
       "  </tbody>\n",
       "</table>\n",
       "</div>"
      ],
      "text/plain": [
       "        Date          Open          High           Low         Close  \\\n",
       "0 2022-10-14  19382.533203  19889.146484  19115.408203  19185.656250   \n",
       "1 2022-10-15  19185.437500  19212.541016  19019.250000  19067.634766   \n",
       "2 2022-10-16  19068.914063  19389.603516  19068.914063  19268.093750   \n",
       "\n",
       "      Adj Close       Volume  \n",
       "0  19185.656250  38452356727  \n",
       "1  19067.634766  16192235532  \n",
       "2  19268.093750  17988916650  "
      ]
     },
     "execution_count": 294,
     "metadata": {},
     "output_type": "execute_result"
    }
   ],
   "source": [
    "daily_data = pd.read_excel(\"Assignment1_Data.xlsx\", sheet_name=\"BTC_1Y_Daily\")\n",
    "weekly_data = pd.read_excel(\"Assignment1_Data.xlsx\", sheet_name=\"BTC_2Y_Weekly\")\n",
    "daily_data.head(3)"
   ]
  },
  {
   "cell_type": "code",
   "execution_count": 295,
   "id": "b7411256",
   "metadata": {},
   "outputs": [
    {
     "name": "stdout",
     "output_type": "stream",
     "text": [
      "Expected efficiency: 0.001\n",
      "Volatility of efficiency: 0.124\n",
      "Values at Risk - 95%, 99%: [-0.03192732069615853, -0.058925864088545]\n"
     ]
    },
    {
     "data": {
      "image/png": "[encoded data removed]",
      "text/plain": [
       "<Figure size 504x360 with 1 Axes>"
      ]
     },
     "metadata": {
      "needs_background": "light"
     },
     "output_type": "display_data"
    }
   ],
   "source": [
    "expected_efficiency_daily, volatility_daily = display_info(daily_data, bins=50, tail=0.10, column='Adj Close')"
   ]
  },
  {
   "cell_type": "code",
   "execution_count": 296,
   "id": "9f2c803d",
   "metadata": {},
   "outputs": [
    {
     "name": "stdout",
     "output_type": "stream",
     "text": [
      "Expected efficiency: -0.011\n",
      "Volatility of efficiency: 0.235\n",
      "Values at Risk - 95%, 99%: [-0.12945479552868383, -0.27690880462283257]\n"
     ]
    },
    {
     "data": {
      "image/png": "[encoded data removed]",
      "text/plain": [
       "<Figure size 504x360 with 1 Axes>"
      ]
     },
     "metadata": {
      "needs_background": "light"
     },
     "output_type": "display_data"
    }
   ],
   "source": [
    "expected_efficiency_weekly, volatility_weekly = display_info(weekly_data, bins=50, tail=0.30, column='Adj Close')"
   ]
  },
  {
   "cell_type": "code",
   "execution_count": 297,
   "id": "985139ce",
   "metadata": {},
   "outputs": [
    {
     "data": {
      "text/html": [
       "<div>\n",
       "<style scoped>\n",
       "    .dataframe tbody tr th:only-of-type {\n",
       "        vertical-align: middle;\n",
       "    }\n",
       "\n",
       "    .dataframe tbody tr th {\n",
       "        vertical-align: top;\n",
       "    }\n",
       "\n",
       "    .dataframe thead th {\n",
       "        text-align: right;\n",
       "    }\n",
       "</style>\n",
       "<table border=\"1\" class=\"dataframe\">\n",
       "  <thead>\n",
       "    <tr style=\"text-align: right;\">\n",
       "      <th></th>\n",
       "      <th>Daily</th>\n",
       "      <th>Weekly</th>\n",
       "    </tr>\n",
       "  </thead>\n",
       "  <tbody>\n",
       "    <tr>\n",
       "      <th>Efficiency</th>\n",
       "      <td>0.001</td>\n",
       "      <td>-0.011</td>\n",
       "    </tr>\n",
       "    <tr>\n",
       "      <th>Volatility</th>\n",
       "      <td>0.124</td>\n",
       "      <td>0.235</td>\n",
       "    </tr>\n",
       "  </tbody>\n",
       "</table>\n",
       "</div>"
      ],
      "text/plain": [
       "            Daily  Weekly\n",
       "Efficiency  0.001  -0.011\n",
       "Volatility  0.124   0.235"
      ]
     },
     "execution_count": 297,
     "metadata": {},
     "output_type": "execute_result"
    }
   ],
   "source": [
    "pd.DataFrame(data=[[expected_efficiency_daily, expected_efficiency_weekly], \n",
    "                   [volatility_daily, volatility_weekly]], \n",
    "             columns=['Daily', 'Weekly'],\n",
    "             index=['Efficiency', 'Volatility'])"
   ]
  },
  {
   "cell_type": "markdown",
   "id": "eab72ed6",
   "metadata": {},
   "source": [
    "### Висновки"
   ]
  },
  {
   "cell_type": "markdown",
   "id": "275db4bf",
   "metadata": {},
   "source": [
    "1. Гістограми для даних по дням та місяцям будуть відрізнятися; усі активи схильні збільшувати свою волатильність при переході від днів до тижнів при незмінній середній ефективності. Середнє значення усіх інструментів коливається близько 0, тому не можна говорити по однозначну \"дохідність\" певного інструмента.\n",
    "2. Оцінки для параметрів нормального розподілу як значення середньої ефективності та волатильності виглядають достатньо точними; гістограма повторює нормальний розподіл.\n",
    "3. Оскільки ефективність (аналог дохідності) коливається близько 0, можемо зробити висновок по надійності активів; бонди (боргові інструменти) виявилися найменш волатильними, що є логічним результатом; S&P500 та золото мають схожі параметри, при цьому S&P500 є менш волатильною за акції Amazon: теж логічний результат, оскільки у випадку S&P500 маємо справу з диверсифікацією, адже розглядаємо не одну, а 500 компаній. Криптовалюти, як і очікувалося, є найбільш волатильними."
   ]
  },
  {
   "cell_type": "code",
   "execution_count": null,
   "id": "715bba40",
   "metadata": {},
   "outputs": [],
   "source": []
  }
 ],
 "metadata": {
  "kernelspec": {
   "display_name": "Python 3 (ipykernel)",
   "language": "python",
   "name": "python3"
  },
  "language_info": {
   "codemirror_mode": {
    "name": "ipython",
    "version": 3
   },
   "file_extension": ".py",
   "mimetype": "text/x-python",
   "name": "python",
   "nbconvert_exporter": "python",
   "pygments_lexer": "ipython3",
   "version": "3.10.4"
  }
 },
 "nbformat": 4,
 "nbformat_minor": 5
}
